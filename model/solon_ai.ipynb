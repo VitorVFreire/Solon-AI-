{
 "cells": [
  {
   "cell_type": "code",
   "execution_count": null,
   "id": "33897e08",
   "metadata": {},
   "outputs": [],
   "source": [
    "from openai import OpenAI\n",
    "from dotenv import load_dotenv\n",
    "import os\n",
    "\n",
    "load_dotenv()\n",
    "    \n",
    "client = OpenAI(\n",
    "  api_key=os.getenv(\"API_KEY\"),\n",
    "  base_url=\"https://api.x.ai/v1\",\n",
    ")\n",
    "\n",
    "completion = client.chat.completions.create(\n",
    "  model='grok-2-latest'\n",
    ")"
   ]
  }
 ],
 "metadata": {
  "kernelspec": {
   "display_name": "venv",
   "language": "python",
   "name": "python3"
  },
  "language_info": {
   "name": "python",
   "version": "3.10.12"
  }
 },
 "nbformat": 4,
 "nbformat_minor": 5
}
